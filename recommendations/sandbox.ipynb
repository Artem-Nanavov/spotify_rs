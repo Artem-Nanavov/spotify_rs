{
 "cells": [
  {
   "cell_type": "code",
   "execution_count": null,
   "metadata": {},
   "outputs": [],
   "source": [
    "import pandas as pd\n",
    "import numpy as np\n",
    "import tensorflow as tf\n",
    "\n",
    "from sklearn.neighbors import NearestNeighbors"
   ]
  },
  {
   "cell_type": "code",
   "execution_count": 19,
   "metadata": {},
   "outputs": [],
   "source": [
    "df = pd.read_csv('data/data.csv')\n"
   ]
  },
  {
   "cell_type": "code",
   "execution_count": 29,
   "metadata": {},
   "outputs": [
    {
     "data": {
      "text/html": [
       "<div>\n",
       "<style scoped>\n",
       "    .dataframe tbody tr th:only-of-type {\n",
       "        vertical-align: middle;\n",
       "    }\n",
       "\n",
       "    .dataframe tbody tr th {\n",
       "        vertical-align: top;\n",
       "    }\n",
       "\n",
       "    .dataframe thead th {\n",
       "        text-align: right;\n",
       "    }\n",
       "</style>\n",
       "<table border=\"1\" class=\"dataframe\">\n",
       "  <thead>\n",
       "    <tr style=\"text-align: right;\">\n",
       "      <th></th>\n",
       "      <th>ProductCost</th>\n",
       "      <th>MerchantName</th>\n",
       "    </tr>\n",
       "  </thead>\n",
       "  <tbody>\n",
       "    <tr>\n",
       "      <th>1</th>\n",
       "      <td>40</td>\n",
       "      <td>Пятёрочка</td>\n",
       "    </tr>\n",
       "    <tr>\n",
       "      <th>20</th>\n",
       "      <td>60</td>\n",
       "      <td>Магнит</td>\n",
       "    </tr>\n",
       "    <tr>\n",
       "      <th>201</th>\n",
       "      <td>40</td>\n",
       "      <td>Перекресток</td>\n",
       "    </tr>\n",
       "  </tbody>\n",
       "</table>\n",
       "</div>"
      ],
      "text/plain": [
       "     ProductCost MerchantName\n",
       "1             40    Пятёрочка\n",
       "20            60       Магнит\n",
       "201           40  Перекресток"
      ]
     },
     "execution_count": 29,
     "metadata": {},
     "output_type": "execute_result"
    }
   ],
   "source": [
    "df[df.ProductName == 'Творог'].drop_duplicates(subset=['MerchantName'])[['ProductCost', 'MerchantName']]"
   ]
  },
  {
   "cell_type": "code",
   "execution_count": null,
   "metadata": {},
   "outputs": [],
   "source": [
    "df = pd.read_csv('data/data.csv')\n",
    "df = df.replace(r'\\s', '', regex=True).applymap(str).applymap(str.lower).applymap(str.strip)\n",
    "\n",
    "texts = df.ProductName.tolist()\n",
    "tokenizer = tf.keras.preprocessing.text.Tokenizer(filters='')\n",
    "tokenizer.fit_on_texts(texts)\n",
    "\n",
    "rev_word_index = {v: k for k, v in tokenizer.word_index.items()}"
   ]
  },
  {
   "cell_type": "code",
   "execution_count": null,
   "metadata": {},
   "outputs": [],
   "source": [
    "tokenizer.word_index['пополнениевиртуальногосчёта']"
   ]
  },
  {
   "cell_type": "code",
   "execution_count": null,
   "metadata": {},
   "outputs": [],
   "source": [
    "import pickle\n",
    "\n",
    "with open('objects/tokenizer.pickle', 'wb') as f:\n",
    "    pickle.dump(tokenizer, f)"
   ]
  },
  {
   "cell_type": "code",
   "execution_count": null,
   "metadata": {},
   "outputs": [],
   "source": [
    "total_length = len(df.groupby(['UserId', 'CheckId']))\n",
    "\n",
    "max_check_items = 9\n",
    "\n",
    "data = []\n",
    "\n",
    "for i in range(len(df.groupby('UserId').count())):\n",
    "    user_items = df[df.UserId == i]\n",
    "\n",
    "    for j in range(max_check_items):\n",
    "        check_items = user_items[user_items.CheckId == j]\n",
    "\n",
    "        if len(check_items) == 0:\n",
    "            break\n",
    "\n",
    "        subdata = []\n",
    "        for item_name in check_items.ProductName:\n",
    "            subdata.append(tokenizer.word_index[item_name.lower()])\n",
    "\n",
    "        data.append(subdata)\n",
    "\n",
    "data = list(filter(lambda x: len(x) >= max_check_items, data))\n",
    "data = list(map(lambda x: x[:max_check_items], data))"
   ]
  },
  {
   "cell_type": "code",
   "execution_count": null,
   "metadata": {},
   "outputs": [],
   "source": [
    "def train():\n",
    "    train_x = np.asarray(data, dtype='float32').reshape(-1, max_check_items)\n",
    "    train_y = train_x[:, -1].reshape(-1, 1)\n",
    "    train_y = tf.keras.utils.to_categorical(train_y, num_classes=len(tokenizer.word_index))\n",
    "    train_x = train_x[:, :max_check_items - 1]\n",
    "\n",
    "    inputs = tf.keras.layers.Input(shape=(max_check_items - 1,))\n",
    "    dense1 = tf.keras.layers.Dense(256, activation=tf.nn.relu)(inputs)\n",
    "    dense2 = tf.keras.layers.Dense(128, activation=tf.nn.relu)(dense1)\n",
    "    dense3 = tf.keras.layers.Dense(64, activation=tf.nn.relu)(dense2)\n",
    "\n",
    "    outputs = tf.keras.layers.Dense(len(tokenizer.word_index), activation=tf.nn.softmax)(dense3)\n",
    "    model = tf.keras.Model(inputs=inputs, outputs=outputs)\n",
    "\n",
    "    model.build((-1, max_check_items - 1))\n",
    "\n",
    "    model.compile(\n",
    "        loss=tf.keras.losses.CategoricalCrossentropy(),\n",
    "        optimizer=tf.keras.optimizers.Adam(learning_rate=0.001),\n",
    "        metrics=['accuracy'],\n",
    "    )\n",
    "\n",
    "    history = model.fit(\n",
    "        train_x,\n",
    "        train_y, \n",
    "        batch_size=128,\n",
    "        epochs=25,\n",
    "        verbose=True,\n",
    "    )\n",
    "\n",
    "    return history\n"
   ]
  },
  {
   "cell_type": "code",
   "execution_count": null,
   "metadata": {},
   "outputs": [],
   "source": [
    "neighbors_length = 3\n",
    "\n",
    "data_index = 0\n",
    "\n",
    "nnm = NearestNeighbors(n_neighbors=neighbors_length, metric='cosine', algorithm='brute').fit(data)\n",
    "\n",
    "distance, indices = nnm.kneighbors([data[data_index]])\n",
    "\n",
    "neighbors = np.array(data)[indices.reshape(neighbors_length)]\n"
   ]
  },
  {
   "cell_type": "code",
   "execution_count": null,
   "metadata": {},
   "outputs": [],
   "source": [
    "user_id = 0\n",
    "\n",
    "checks = df[df.UserId == user_id]"
   ]
  },
  {
   "cell_type": "code",
   "execution_count": null,
   "metadata": {},
   "outputs": [],
   "source": []
  }
 ],
 "metadata": {
  "interpreter": {
   "hash": "141dabf9bcfce6490dd305d3ba4af97b52b08965b423f0c392aaa96e18d5639f"
  },
  "kernelspec": {
   "display_name": "Python 3.9.5 64-bit ('.venv': venv)",
   "language": "python",
   "name": "python3"
  },
  "language_info": {
   "codemirror_mode": {
    "name": "ipython",
    "version": 3
   },
   "file_extension": ".py",
   "mimetype": "text/x-python",
   "name": "python",
   "nbconvert_exporter": "python",
   "pygments_lexer": "ipython3",
   "version": "3.9.5"
  },
  "orig_nbformat": 4
 },
 "nbformat": 4,
 "nbformat_minor": 2
}
